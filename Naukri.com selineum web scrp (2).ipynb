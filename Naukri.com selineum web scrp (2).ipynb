{
 "cells": [
  {
   "cell_type": "code",
   "execution_count": 3,
   "id": "da88b191",
   "metadata": {},
   "outputs": [
    {
     "name": "stdout",
     "output_type": "stream",
     "text": [
      "Requirement already satisfied: selenium in c:\\users\\mis\\anaconda3\\lib\\site-packages (4.19.0)\n",
      "Requirement already satisfied: urllib3[socks]<3,>=1.26 in c:\\users\\mis\\anaconda3\\lib\\site-packages (from selenium) (1.26.16)\n",
      "Requirement already satisfied: trio~=0.17 in c:\\users\\mis\\anaconda3\\lib\\site-packages (from selenium) (0.25.0)\n",
      "Requirement already satisfied: trio-websocket~=0.9 in c:\\users\\mis\\anaconda3\\lib\\site-packages (from selenium) (0.11.1)\n",
      "Requirement already satisfied: certifi>=2021.10.8 in c:\\users\\mis\\anaconda3\\lib\\site-packages (from selenium) (2023.7.22)\n",
      "Requirement already satisfied: typing_extensions>=4.9.0 in c:\\users\\mis\\anaconda3\\lib\\site-packages (from selenium) (4.10.0)\n",
      "Requirement already satisfied: attrs>=23.2.0 in c:\\users\\mis\\anaconda3\\lib\\site-packages (from trio~=0.17->selenium) (23.2.0)\n",
      "Requirement already satisfied: sortedcontainers in c:\\users\\mis\\anaconda3\\lib\\site-packages (from trio~=0.17->selenium) (2.4.0)\n",
      "Requirement already satisfied: idna in c:\\users\\mis\\anaconda3\\lib\\site-packages (from trio~=0.17->selenium) (3.4)\n",
      "Requirement already satisfied: outcome in c:\\users\\mis\\anaconda3\\lib\\site-packages (from trio~=0.17->selenium) (1.3.0.post0)\n",
      "Requirement already satisfied: sniffio>=1.3.0 in c:\\users\\mis\\anaconda3\\lib\\site-packages (from trio~=0.17->selenium) (1.3.1)\n",
      "Requirement already satisfied: cffi>=1.14 in c:\\users\\mis\\anaconda3\\lib\\site-packages (from trio~=0.17->selenium) (1.15.1)\n",
      "Requirement already satisfied: wsproto>=0.14 in c:\\users\\mis\\anaconda3\\lib\\site-packages (from trio-websocket~=0.9->selenium) (1.2.0)\n",
      "Requirement already satisfied: PySocks!=1.5.7,<2.0,>=1.5.6 in c:\\users\\mis\\anaconda3\\lib\\site-packages (from urllib3[socks]<3,>=1.26->selenium) (1.7.1)\n",
      "Requirement already satisfied: pycparser in c:\\users\\mis\\anaconda3\\lib\\site-packages (from cffi>=1.14->trio~=0.17->selenium) (2.21)\n",
      "Requirement already satisfied: h11<1,>=0.9.0 in c:\\users\\mis\\anaconda3\\lib\\site-packages (from wsproto>=0.14->trio-websocket~=0.9->selenium) (0.14.0)\n"
     ]
    }
   ],
   "source": [
    "!pip install selenium"
   ]
  },
  {
   "cell_type": "code",
   "execution_count": 2,
   "id": "792efd61",
   "metadata": {},
   "outputs": [],
   "source": [
    "import selenium\n",
    "import pandas as pd\n",
    "from selenium import webdriver\n",
    "import warnings\n",
    "warnings.filterwarnings('ignore')\n",
    "from selenium.webdriver.common.by import By\n",
    "import time"
   ]
  },
  {
   "cell_type": "code",
   "execution_count": 3,
   "id": "c43df987",
   "metadata": {},
   "outputs": [],
   "source": [
    "driver=webdriver.Chrome('https://www.naukri.com/')"
   ]
  },
  {
   "cell_type": "code",
   "execution_count": 4,
   "id": "2f571691",
   "metadata": {},
   "outputs": [],
   "source": [
    "driver.get(\"https://www.naukri.com/\")"
   ]
  },
  {
   "cell_type": "code",
   "execution_count": null,
   "id": "06b3f13a",
   "metadata": {},
   "outputs": [],
   "source": [
    "#(\"/html/body/div[1]/div[7]/div/div/div[5]/div/div/div/div[1]/div/input\")"
   ]
  },
  {
   "cell_type": "code",
   "execution_count": 5,
   "id": "2f9bfd06",
   "metadata": {},
   "outputs": [],
   "source": [
    "designation=driver.find_element(By.CLASS_NAME,\"suggestor-input \")\n",
    "designation.send_keys('Data Analyst')"
   ]
  },
  {
   "cell_type": "code",
   "execution_count": 6,
   "id": "0c415fcf",
   "metadata": {},
   "outputs": [],
   "source": [
    "location=driver.find_element(By.XPATH,\"/html/body/div[1]/div[7]/div/div/div[5]/div/div/div/div[1]/div/input\")\n",
    "location.send_keys(\"Bangalore\")"
   ]
  },
  {
   "cell_type": "code",
   "execution_count": 7,
   "id": "6a1586cd",
   "metadata": {},
   "outputs": [],
   "source": [
    "search=driver.find_element(By.CLASS_NAME,\"qsbSubmit\")\n",
    "search.click()"
   ]
  },
  {
   "cell_type": "code",
   "execution_count": 51,
   "id": "8452a93e",
   "metadata": {},
   "outputs": [
    {
     "ename": "AttributeError",
     "evalue": "'list' object has no attribute 'click'",
     "output_type": "error",
     "traceback": [
      "\u001b[1;31m---------------------------------------------------------------------------\u001b[0m",
      "\u001b[1;31mAttributeError\u001b[0m                            Traceback (most recent call last)",
      "Cell \u001b[1;32mIn[51], line 2\u001b[0m\n\u001b[0;32m      1\u001b[0m search\u001b[38;5;241m=\u001b[39mdriver\u001b[38;5;241m.\u001b[39mfind_elements(By\u001b[38;5;241m.\u001b[39mXPATH,\u001b[38;5;124m'\u001b[39m\u001b[38;5;124m//div[@class=\u001b[39m\u001b[38;5;124m\"\u001b[39m\u001b[38;5;124mcust-job-tuple layout-wrapper lay-2 sjw__tuple \u001b[39m\u001b[38;5;124m\"\u001b[39m\u001b[38;5;124m]/div /a\u001b[39m\u001b[38;5;124m'\u001b[39m)\n\u001b[1;32m----> 2\u001b[0m search\u001b[38;5;241m.\u001b[39mclick()\n",
      "\u001b[1;31mAttributeError\u001b[0m: 'list' object has no attribute 'click'"
     ]
    }
   ],
   "source": [
    "#search=driver.find_element(By.XPATH,\"\")\n",
    "#search.click()"
   ]
  },
  {
   "cell_type": "code",
   "execution_count": 8,
   "id": "973a95a3",
   "metadata": {},
   "outputs": [],
   "source": [
    "job_title=[]\n",
    "job_location=[]\n",
    "company_name=[]\n",
    "exp_reqr=[]\n"
   ]
  },
  {
   "cell_type": "code",
   "execution_count": 9,
   "id": "8ba0fb4b",
   "metadata": {},
   "outputs": [],
   "source": [
    "title_tag=driver.find_elements(By.XPATH,'//div[@class=\"cust-job-tuple layout-wrapper lay-2 sjw__tuple \"]/div/a')\n",
    "for i in title_tag:\n",
    "    title=i.text\n",
    "    job_title.append(title)\n",
    "    \n",
    "    \n",
    "    \n",
    "    \n",
    "    \n",
    "location_tag=driver.find_elements(By.XPATH,'//span[@class=\"locWdth\"]')\n",
    "for i in location_tag:\n",
    "    location=i.text\n",
    "    job_location.append(location)\n",
    "    \n",
    "    \n",
    "    \n",
    "company_tag=driver.find_elements(By.XPATH,'//div[@class=\" row2\"]/span/a[1]')\n",
    "for i in company_tag:\n",
    "    company=i.text\n",
    "    company_name.append(company)\n",
    "        \n",
    "    \n",
    "    \n",
    "experiance_tag=driver.find_elements(By.XPATH,'//span[@class=\"expwdth\"]')\n",
    "for i in experiance_tag:\n",
    "    exp=i.text\n",
    "    exp_reqr.append(exp)   \n",
    "    "
   ]
  },
  {
   "cell_type": "code",
   "execution_count": 10,
   "id": "f39bcbe0",
   "metadata": {},
   "outputs": [
    {
     "name": "stdout",
     "output_type": "stream",
     "text": [
      "20 20 20 20\n"
     ]
    }
   ],
   "source": [
    "print(len(job_title),len(job_location),len(company_name),len(exp_reqr))"
   ]
  },
  {
   "cell_type": "code",
   "execution_count": 11,
   "id": "3cc26c3f",
   "metadata": {},
   "outputs": [
    {
     "data": {
      "text/html": [
       "<div>\n",
       "<style scoped>\n",
       "    .dataframe tbody tr th:only-of-type {\n",
       "        vertical-align: middle;\n",
       "    }\n",
       "\n",
       "    .dataframe tbody tr th {\n",
       "        vertical-align: top;\n",
       "    }\n",
       "\n",
       "    .dataframe thead th {\n",
       "        text-align: right;\n",
       "    }\n",
       "</style>\n",
       "<table border=\"1\" class=\"dataframe\">\n",
       "  <thead>\n",
       "    <tr style=\"text-align: right;\">\n",
       "      <th></th>\n",
       "      <th>Title</th>\n",
       "      <th>Location</th>\n",
       "      <th>Company_Name</th>\n",
       "      <th>Experiance</th>\n",
       "    </tr>\n",
       "  </thead>\n",
       "  <tbody>\n",
       "    <tr>\n",
       "      <th>0</th>\n",
       "      <td>Data Analyst</td>\n",
       "      <td>Hybrid - Bangalore Rural</td>\n",
       "      <td>Allegis Group</td>\n",
       "      <td>7-12 Yrs</td>\n",
       "    </tr>\n",
       "    <tr>\n",
       "      <th>1</th>\n",
       "      <td>Data Analyst</td>\n",
       "      <td>Bengaluru</td>\n",
       "      <td>Genius Consultants</td>\n",
       "      <td>3-6 Yrs</td>\n",
       "    </tr>\n",
       "    <tr>\n",
       "      <th>2</th>\n",
       "      <td>Data Analyst</td>\n",
       "      <td>Bengaluru</td>\n",
       "      <td>MS Clinical Research (p) Ltd</td>\n",
       "      <td>1-4 Yrs</td>\n",
       "    </tr>\n",
       "    <tr>\n",
       "      <th>3</th>\n",
       "      <td>Data Analyst</td>\n",
       "      <td>Bengaluru</td>\n",
       "      <td>Elevate Global</td>\n",
       "      <td>1-3 Yrs</td>\n",
       "    </tr>\n",
       "    <tr>\n",
       "      <th>4</th>\n",
       "      <td>Data Analyst</td>\n",
       "      <td>Bengaluru</td>\n",
       "      <td>Ducker Worldwide Management Consulting</td>\n",
       "      <td>1-3 Yrs</td>\n",
       "    </tr>\n",
       "    <tr>\n",
       "      <th>5</th>\n",
       "      <td>Data Analyst</td>\n",
       "      <td>Remote</td>\n",
       "      <td>Data Analyst</td>\n",
       "      <td>2-7 Yrs</td>\n",
       "    </tr>\n",
       "    <tr>\n",
       "      <th>6</th>\n",
       "      <td>Data Analyst I</td>\n",
       "      <td>Bengaluru</td>\n",
       "      <td>IBM</td>\n",
       "      <td>3-5 Yrs</td>\n",
       "    </tr>\n",
       "    <tr>\n",
       "      <th>7</th>\n",
       "      <td>Payer Data Analyst</td>\n",
       "      <td>Kolkata, Mumbai, New Delhi, Hyderabad, Pune, C...</td>\n",
       "      <td>Agilite</td>\n",
       "      <td>3-7 Yrs</td>\n",
       "    </tr>\n",
       "    <tr>\n",
       "      <th>8</th>\n",
       "      <td>Data Analyst Data Classification &amp; Attestation</td>\n",
       "      <td>Bengaluru</td>\n",
       "      <td>Illumina</td>\n",
       "      <td>3-5 Yrs</td>\n",
       "    </tr>\n",
       "    <tr>\n",
       "      <th>9</th>\n",
       "      <td>Data Analyst Data Classification &amp; Attestation</td>\n",
       "      <td>Bengaluru</td>\n",
       "      <td>Illuminz</td>\n",
       "      <td>3-5 Yrs</td>\n",
       "    </tr>\n",
       "    <tr>\n",
       "      <th>10</th>\n",
       "      <td>Data Analyst (Profisee MDM)</td>\n",
       "      <td>Remote</td>\n",
       "      <td>Brillio</td>\n",
       "      <td>2-7 Yrs</td>\n",
       "    </tr>\n",
       "    <tr>\n",
       "      <th>11</th>\n",
       "      <td>Data Analyst</td>\n",
       "      <td>Hybrid - Pune, Delhi / NCR, Bengaluru</td>\n",
       "      <td>Incanus Technologies</td>\n",
       "      <td>1-6 Yrs</td>\n",
       "    </tr>\n",
       "    <tr>\n",
       "      <th>12</th>\n",
       "      <td>Data Analyst</td>\n",
       "      <td>Bengaluru</td>\n",
       "      <td>Orcapod Consulting Services</td>\n",
       "      <td>8-13 Yrs</td>\n",
       "    </tr>\n",
       "    <tr>\n",
       "      <th>13</th>\n",
       "      <td>Data Analyst III</td>\n",
       "      <td>Bengaluru</td>\n",
       "      <td>Firm in IT Services Sector</td>\n",
       "      <td>6-10 Yrs</td>\n",
       "    </tr>\n",
       "    <tr>\n",
       "      <th>14</th>\n",
       "      <td>Data Analyst- Communication Equipment Domain</td>\n",
       "      <td>Noida, Bengaluru</td>\n",
       "      <td>JK Technosoft</td>\n",
       "      <td>5-10 Yrs</td>\n",
       "    </tr>\n",
       "    <tr>\n",
       "      <th>15</th>\n",
       "      <td>Data Analyst || Coforge</td>\n",
       "      <td>Bengaluru, Greater Noida, Uttar Pradesh</td>\n",
       "      <td>Coforge</td>\n",
       "      <td>7-10 Yrs</td>\n",
       "    </tr>\n",
       "    <tr>\n",
       "      <th>16</th>\n",
       "      <td>Data Eng, Mgmt &amp; Governance Analyst</td>\n",
       "      <td>Bengaluru</td>\n",
       "      <td>Accenture</td>\n",
       "      <td>3-5 Yrs</td>\n",
       "    </tr>\n",
       "    <tr>\n",
       "      <th>17</th>\n",
       "      <td>Data Analyst</td>\n",
       "      <td>Bengaluru</td>\n",
       "      <td>Ecolab Digital Center (EDC)</td>\n",
       "      <td>3-4 Yrs</td>\n",
       "    </tr>\n",
       "    <tr>\n",
       "      <th>18</th>\n",
       "      <td>Data Analyst</td>\n",
       "      <td>Bengaluru</td>\n",
       "      <td>Hudsons bay Company (HBC)</td>\n",
       "      <td>2-7 Yrs</td>\n",
       "    </tr>\n",
       "    <tr>\n",
       "      <th>19</th>\n",
       "      <td>Data Analyst</td>\n",
       "      <td>Bengaluru</td>\n",
       "      <td>Chubb</td>\n",
       "      <td>3-5 Yrs</td>\n",
       "    </tr>\n",
       "  </tbody>\n",
       "</table>\n",
       "</div>"
      ],
      "text/plain": [
       "                                             Title  \\\n",
       "0                                     Data Analyst   \n",
       "1                                     Data Analyst   \n",
       "2                                     Data Analyst   \n",
       "3                                     Data Analyst   \n",
       "4                                     Data Analyst   \n",
       "5                                     Data Analyst   \n",
       "6                                   Data Analyst I   \n",
       "7                               Payer Data Analyst   \n",
       "8   Data Analyst Data Classification & Attestation   \n",
       "9   Data Analyst Data Classification & Attestation   \n",
       "10                     Data Analyst (Profisee MDM)   \n",
       "11                                    Data Analyst   \n",
       "12                                    Data Analyst   \n",
       "13                                Data Analyst III   \n",
       "14    Data Analyst- Communication Equipment Domain   \n",
       "15                         Data Analyst || Coforge   \n",
       "16             Data Eng, Mgmt & Governance Analyst   \n",
       "17                                    Data Analyst   \n",
       "18                                    Data Analyst   \n",
       "19                                    Data Analyst   \n",
       "\n",
       "                                             Location  \\\n",
       "0                            Hybrid - Bangalore Rural   \n",
       "1                                           Bengaluru   \n",
       "2                                           Bengaluru   \n",
       "3                                           Bengaluru   \n",
       "4                                           Bengaluru   \n",
       "5                                              Remote   \n",
       "6                                           Bengaluru   \n",
       "7   Kolkata, Mumbai, New Delhi, Hyderabad, Pune, C...   \n",
       "8                                           Bengaluru   \n",
       "9                                           Bengaluru   \n",
       "10                                             Remote   \n",
       "11              Hybrid - Pune, Delhi / NCR, Bengaluru   \n",
       "12                                          Bengaluru   \n",
       "13                                          Bengaluru   \n",
       "14                                   Noida, Bengaluru   \n",
       "15            Bengaluru, Greater Noida, Uttar Pradesh   \n",
       "16                                          Bengaluru   \n",
       "17                                          Bengaluru   \n",
       "18                                          Bengaluru   \n",
       "19                                          Bengaluru   \n",
       "\n",
       "                              Company_Name Experiance  \n",
       "0                            Allegis Group   7-12 Yrs  \n",
       "1                       Genius Consultants    3-6 Yrs  \n",
       "2             MS Clinical Research (p) Ltd    1-4 Yrs  \n",
       "3                           Elevate Global    1-3 Yrs  \n",
       "4   Ducker Worldwide Management Consulting    1-3 Yrs  \n",
       "5                             Data Analyst    2-7 Yrs  \n",
       "6                                      IBM    3-5 Yrs  \n",
       "7                                  Agilite    3-7 Yrs  \n",
       "8                                 Illumina    3-5 Yrs  \n",
       "9                                 Illuminz    3-5 Yrs  \n",
       "10                                 Brillio    2-7 Yrs  \n",
       "11                    Incanus Technologies    1-6 Yrs  \n",
       "12             Orcapod Consulting Services   8-13 Yrs  \n",
       "13              Firm in IT Services Sector   6-10 Yrs  \n",
       "14                           JK Technosoft   5-10 Yrs  \n",
       "15                                 Coforge   7-10 Yrs  \n",
       "16                               Accenture    3-5 Yrs  \n",
       "17             Ecolab Digital Center (EDC)    3-4 Yrs  \n",
       "18               Hudsons bay Company (HBC)    2-7 Yrs  \n",
       "19                                   Chubb    3-5 Yrs  "
      ]
     },
     "execution_count": 11,
     "metadata": {},
     "output_type": "execute_result"
    }
   ],
   "source": [
    "import pandas as pd\n",
    "df=pd.DataFrame({'Title':job_title,'Location':job_location,'Company_Name':company_name,'Experiance':exp_reqr})\n",
    "df"
   ]
  },
  {
   "cell_type": "code",
   "execution_count": 14,
   "id": "5ac6ea8c",
   "metadata": {},
   "outputs": [
    {
     "data": {
      "text/plain": [
       "[<selenium.webdriver.remote.webelement.WebElement (session=\"882c5f5b40b88608d9c00f37e8a00b10\", element=\"f.812741DB540B8CC62F17B2E29B9419EA.d.AA76E61F984CA4B529B8715FA7AF6763.e.131\")>,\n",
       " <selenium.webdriver.remote.webelement.WebElement (session=\"882c5f5b40b88608d9c00f37e8a00b10\", element=\"f.812741DB540B8CC62F17B2E29B9419EA.d.AA76E61F984CA4B529B8715FA7AF6763.e.1334\")>,\n",
       " <selenium.webdriver.remote.webelement.WebElement (session=\"882c5f5b40b88608d9c00f37e8a00b10\", element=\"f.812741DB540B8CC62F17B2E29B9419EA.d.AA76E61F984CA4B529B8715FA7AF6763.e.1342\")>,\n",
       " <selenium.webdriver.remote.webelement.WebElement (session=\"882c5f5b40b88608d9c00f37e8a00b10\", element=\"f.812741DB540B8CC62F17B2E29B9419EA.d.AA76E61F984CA4B529B8715FA7AF6763.e.2688\")>]"
      ]
     },
     "execution_count": 14,
     "metadata": {},
     "output_type": "execute_result"
    }
   ],
   "source": [
    "# find url\n",
    "url=driver.find_elements(By.XPATH,'//a[@class=\"title \"]')\n",
    "url[0:4]"
   ]
  },
  {
   "cell_type": "code",
   "execution_count": 15,
   "id": "bea7d967",
   "metadata": {
    "scrolled": true
   },
   "outputs": [
    {
     "name": "stdout",
     "output_type": "stream",
     "text": [
      "https://www.naukri.com/job-listings-data-analyst-allegis-group-bangalore-rural-7-to-12-years-030424007037\n",
      "https://www.naukri.com/job-listings-data-analyst-genius-consultants-bengaluru-3-to-6-years-290324004592\n",
      "https://www.naukri.com/job-listings-data-analyst-ms-clinical-research-p-ltd-bengaluru-1-to-4-years-290324501771\n",
      "None\n"
     ]
    }
   ],
   "source": [
    "for i in url[0:4]:\n",
    "    print(i.get_attribute('href'))"
   ]
  },
  {
   "cell_type": "code",
   "execution_count": 35,
   "id": "315e2731",
   "metadata": {},
   "outputs": [],
   "source": [
    "job_title=[]"
   ]
  },
  {
   "cell_type": "code",
   "execution_count": 42,
   "id": "92aefb09",
   "metadata": {},
   "outputs": [],
   "source": [
    "start=0\n",
    "end=2\n",
    "for page in range(start,end):\n",
    "    title=driver.find_elements(By.XPATH,'//div[@class=\"cust-job-tuple layout-wrapper lay-2 sjw__tuple \"]/div/a')\n",
    "    for i in title:\n",
    "        job_title.append(i.text)\n",
    "    next_button=driver.find_elements(By.XPATH,'/html/body/div/main/div[1]/div[2]/div[3]/div/a[2]')\n",
    "    #next_button.click()  \n",
    "    #time.sleep(3)"
   ]
  },
  {
   "cell_type": "code",
   "execution_count": 41,
   "id": "2fa3790d",
   "metadata": {},
   "outputs": [
    {
     "data": {
      "text/plain": [
       "120"
      ]
     },
     "execution_count": 41,
     "metadata": {},
     "output_type": "execute_result"
    }
   ],
   "source": [
    "len(job_title)"
   ]
  },
  {
   "cell_type": "code",
   "execution_count": null,
   "id": "32176947",
   "metadata": {},
   "outputs": [],
   "source": []
  }
 ],
 "metadata": {
  "kernelspec": {
   "display_name": "Python 3 (ipykernel)",
   "language": "python",
   "name": "python3"
  },
  "language_info": {
   "codemirror_mode": {
    "name": "ipython",
    "version": 3
   },
   "file_extension": ".py",
   "mimetype": "text/x-python",
   "name": "python",
   "nbconvert_exporter": "python",
   "pygments_lexer": "ipython3",
   "version": "3.11.4"
  }
 },
 "nbformat": 4,
 "nbformat_minor": 5
}
